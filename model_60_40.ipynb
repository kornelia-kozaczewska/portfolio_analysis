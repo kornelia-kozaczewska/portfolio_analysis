{
 "cells": [
  {
   "cell_type": "code",
   "execution_count": 29,
   "id": "ce2b94c5",
   "metadata": {},
   "outputs": [],
   "source": [
    "import pandas as pd\n",
    "import numpy as np\n",
    "import matplotlib.pyplot as plt\n",
    "import seaborn as sns\n",
    "\n",
    "sns.set_theme(style=\"whitegrid\", palette=\"Paired\")"
   ]
  },
  {
   "cell_type": "code",
   "execution_count": null,
   "id": "be60d10d",
   "metadata": {},
   "outputs": [],
   "source": [
    "def load_prices(path):\n",
    "    df = pd.read_csv(path)\n",
    "    df['Data'] = pd.to_datetime(df['Data'])\n",
    "    df.set_index('Data').sort_index()\n",
    "    return df['Zamkniecie']\n",
    "\n",
    "def daily_returns(prices):\n",
    "    '''Liczy dzienne zwroty proste.'''\n",
    "    return prices.pct_change().dropna(how='all')\n",
    "\n",
    "def average_return(daily_returns, trading_days):\n",
    "    '''Liczy średni zwrot w skali roku.'''\n",
    "    return (1 + daily_returns.mean()) ** trading_days - 1\n",
    "\n",
    "def cumulative_return(daily_returns):\n",
    "    '''Liczy skumulowaną stopę zwrotu dla dziennych stóp zwrotu.'''\n",
    "    return (1 + daily_returns).prod() - 1\n",
    "\n",
    "def volatility(daily_returns, trading_days):\n",
    "    '''Liczy roczną zmienność na podstawie dziennych zwrotów.'''\n",
    "    return daily_returns.std(ddof=1) * np.sqrt(trading_days)\n",
    "\n",
    "def sharpe_ratio(daily_returns, risk_free_rate, trading_days):\n",
    "    '''Liczy roczny wskaźnik Sharpe'a dla dziennych prostych zwrotów.'''\n",
    "    daily_risk_free_rate = (1 + risk_free_rate) ** (1 / trading_days) - 1\n",
    "    return ((daily_returns.mean() - daily_risk_free_rate) / daily_returns.std(ddof=1)) * np.sqrt(trading_days)"
   ]
  },
  {
   "cell_type": "code",
   "execution_count": 31,
   "id": "29d126eb",
   "metadata": {},
   "outputs": [],
   "source": [
    "risk_free_rate = 0.0595 # https://www.obligacjeskarbowe.pl/oferta-obligacji/obligacje-3-letnie-tos/tos0128/\n",
    "trading_days = 252"
   ]
  },
  {
   "cell_type": "code",
   "execution_count": 32,
   "id": "78c02d82",
   "metadata": {},
   "outputs": [],
   "source": [
    "spx = load_prices('https://raw.githubusercontent.com/kornelia-kozaczewska/portfolio_analysis/refs/heads/main/data/%5Espx_d.csv')\n",
    "ibca = load_prices('https://raw.githubusercontent.com/kornelia-kozaczewska/portfolio_analysis/refs/heads/main/data/ibca_de_d.csv')\n",
    "mwig40 = load_prices('https://raw.githubusercontent.com/kornelia-kozaczewska/portfolio_analysis/refs/heads/main/data/mwig40tr_d.csv')\n",
    "\n",
    "usdpln = load_prices('https://raw.githubusercontent.com/kornelia-kozaczewska/portfolio_analysis/refs/heads/main/data/usdpln_d.csv')\n",
    "eurpln = load_prices('https://raw.githubusercontent.com/kornelia-kozaczewska/portfolio_analysis/refs/heads/main/data/eurpln_d.csv')"
   ]
  },
  {
   "cell_type": "code",
   "execution_count": 33,
   "id": "7e421b40",
   "metadata": {},
   "outputs": [],
   "source": [
    "usdpln = usdpln.reindex(spx.index, method=\"ffill\")\n",
    "eurpln = eurpln.reindex(ibca.index, method=\"ffill\")\n",
    "\n",
    "spx_pln = spx * usdpln\n",
    "ibca_pln = ibca * eurpln\n",
    "\n",
    "spx_pln = spx_pln.reindex(mwig40.index, method='ffill')\n",
    "ibca_pln = ibca_pln.reindex(mwig40.index, method='ffill')"
   ]
  },
  {
   "cell_type": "markdown",
   "id": "7e44c4ee",
   "metadata": {},
   "source": [
    "### Wariant 60/40:"
   ]
  },
  {
   "cell_type": "code",
   "execution_count": 34,
   "id": "0e9912f6",
   "metadata": {},
   "outputs": [],
   "source": [
    "portfolio_60_40_PLN = ibca_pln * .6 + mwig40 * .4\n",
    "portfolio_60_40_PLN_US = ibca_pln * .6 + mwig40 * .2 + spx_pln * .2"
   ]
  },
  {
   "cell_type": "code",
   "execution_count": 43,
   "id": "7bc00ed5",
   "metadata": {},
   "outputs": [
    {
     "name": "stdout",
     "output_type": "stream",
     "text": [
      "-----60/40 PLN-----\n",
      "Średni roczny zwrot: 26.643%\n",
      "Skumulowany zwrot: 56.027%\n",
      "Sharpe roczny: 1.197.\n"
     ]
    }
   ],
   "source": [
    "daily_60_40_PLN = daily_returns(portfolio_60_40_PLN)\n",
    "\n",
    "avg_60_40_PLN = average_return(daily_60_40_PLN, trading_days)\n",
    "cumulative_60_40_PLN = cumulative_return(daily_60_40_PLN)\n",
    "sharpe_60_40_PLN = sharpe_ratio(daily_60_40_PLN, risk_free_rate, trading_days)\n",
    "\n",
    "print('-----60/40 PLN-----')\n",
    "print(f'Średni roczny zwrot: {(avg_60_40_PLN * 100).round(3)}%')\n",
    "print(f'Skumulowany zwrot: {(cumulative_60_40_PLN * 100).round(3)}%')\n",
    "print(f'Sharpe roczny: {sharpe_60_40_PLN.round(3)}.')"
   ]
  },
  {
   "cell_type": "code",
   "execution_count": 42,
   "id": "613b832c",
   "metadata": {},
   "outputs": [
    {
     "name": "stdout",
     "output_type": "stream",
     "text": [
      "-----60/40 PLN + US-----\n",
      "Średni roczny zwrot: 19.555%\n",
      "Skumulowany zwrot: 39.978%\n",
      "Sharpe roczny: 0.929.\n"
     ]
    }
   ],
   "source": [
    "daily_60_40_PLN_US = daily_returns(portfolio_60_40_PLN_US)\n",
    "\n",
    "avg_60_40_PLN_US = average_return(daily_60_40_PLN_US, trading_days)\n",
    "cumulative_60_40_PLN_US = cumulative_return(daily_60_40_PLN_US)\n",
    "sharpe_60_40_PLN_US = sharpe_ratio(daily_60_40_PLN_US, risk_free_rate, trading_days)\n",
    "\n",
    "print('-----60/40 PLN + US-----')\n",
    "print(f'Średni roczny zwrot: {(avg_60_40_PLN_US * 100).round(3)}%')\n",
    "print(f'Skumulowany zwrot: {(cumulative_60_40_PLN_US * 100).round(3)}%')\n",
    "print(f'Sharpe roczny: {sharpe_60_40_PLN_US.round(3)}.')"
   ]
  }
 ],
 "metadata": {
  "kernelspec": {
   "display_name": "Python 3 (ipykernel)",
   "language": "python",
   "name": "python3"
  },
  "language_info": {
   "codemirror_mode": {
    "name": "ipython",
    "version": 3
   },
   "file_extension": ".py",
   "mimetype": "text/x-python",
   "name": "python",
   "nbconvert_exporter": "python",
   "pygments_lexer": "ipython3",
   "version": "3.12.6"
  }
 },
 "nbformat": 4,
 "nbformat_minor": 5
}
